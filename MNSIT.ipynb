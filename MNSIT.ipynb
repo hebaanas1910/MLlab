{
 "cells": [
  {
   "cell_type": "code",
   "execution_count": 1,
   "metadata": {},
   "outputs": [
    {
     "name": "stdout",
     "output_type": "stream",
     "text": [
      "Loading MNIST from .ubyte files...\n",
      "Training Logistic Regression model...\n",
      "Accuracy on test set: 99.95%\n",
      "Predicted 1s: 1136\n",
      "Predicted 0s: 979\n"
     ]
    }
   ],
   "source": [
    "import numpy as np\n",
    "from sklearn.linear_model import LogisticRegression\n",
    "from sklearn.metrics import accuracy_score\n",
    "import struct\n",
    "\n",
    "# --- Helper functions to load ubyte files ---\n",
    "\n",
    "def load_images(filename):\n",
    "    with open(filename, 'rb') as f:\n",
    "        magic, num, rows, cols = struct.unpack(\">IIII\", f.read(16))\n",
    "        images = np.frombuffer(f.read(), dtype=np.uint8)\n",
    "        images = images.reshape(num, rows * cols)\n",
    "        return images\n",
    "\n",
    "def load_labels(filename):\n",
    "    with open(filename, 'rb') as f:\n",
    "        magic, num = struct.unpack(\">II\", f.read(8))\n",
    "        labels = np.frombuffer(f.read(), dtype=np.uint8)\n",
    "        return labels\n",
    "\n",
    "# --- Load MNIST dataset ---\n",
    "print(\"Loading MNIST from .ubyte files...\")\n",
    "\n",
    "X_train = load_images(\"train-images-idx3-ubyte\")\n",
    "y_train = load_labels(\"train-labels-idx1-ubyte\")\n",
    "X_test = load_images(\"t10k-images-idx3-ubyte\")\n",
    "y_test = load_labels(\"t10k-labels-idx1-ubyte\")\n",
    "\n",
    "# --- Filter only digits 0 and 1 ---\n",
    "mask_train = (y_train == 0) | (y_train == 1)\n",
    "mask_test = (y_test == 0) | (y_test == 1)\n",
    "\n",
    "X_train, y_train = X_train[mask_train], y_train[mask_train]\n",
    "X_test, y_test = X_test[mask_test], y_test[mask_test]\n",
    "\n",
    "# --- Normalize data (optional but recommended) ---\n",
    "X_train = X_train / 255.0\n",
    "X_test = X_test / 255.0\n",
    "\n",
    "# --- Train Logistic Regression model ---\n",
    "print(\"Training Logistic Regression model...\")\n",
    "model = LogisticRegression(max_iter=1000, solver='lbfgs')\n",
    "model.fit(X_train, y_train)\n",
    "\n",
    "# --- Evaluate model ---\n",
    "y_pred = model.predict(X_test)\n",
    "accuracy = accuracy_score(y_test, y_pred)\n",
    "print(f\"Accuracy on test set: {accuracy * 100:.2f}%\")\n",
    "\n",
    "# --- Count how many 0s and 1s predicted ---\n",
    "num_ones = np.sum(y_pred == 1)\n",
    "num_zeros = np.sum(y_pred == 0)\n",
    "print(f\"Predicted 1s: {num_ones}\")\n",
    "print(f\"Predicted 0s: {num_zeros}\")\n"
   ]
  },
  {
   "cell_type": "code",
   "execution_count": null,
   "metadata": {},
   "outputs": [],
   "source": []
  }
 ],
 "metadata": {
  "kernelspec": {
   "display_name": "Python 3",
   "language": "python",
   "name": "python3"
  },
  "language_info": {
   "codemirror_mode": {
    "name": "ipython",
    "version": 3
   },
   "file_extension": ".py",
   "mimetype": "text/x-python",
   "name": "python",
   "nbconvert_exporter": "python",
   "pygments_lexer": "ipython3",
   "version": "3.6.5"
  }
 },
 "nbformat": 4,
 "nbformat_minor": 2
}
